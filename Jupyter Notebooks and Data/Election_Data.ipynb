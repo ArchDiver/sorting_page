{
 "cells": [
  {
   "cell_type": "code",
   "execution_count": 1,
   "metadata": {},
   "outputs": [
    {
     "name": "stdout",
     "output_type": "stream",
     "text": [
      "BM                   1908.00\n",
      "BF                   2494.00\n",
      "BU                      0.00\n",
      "WM                   7910.00\n",
      "WF                   9024.00\n",
      "WU                      2.00\n",
      "APacM                  48.00\n",
      "APacF                  44.00\n",
      "APacU                   0.00\n",
      "HM                    150.00\n",
      "HF                    180.00\n",
      "HU                      0.00\n",
      "NM                     12.00\n",
      "NF                      0.00\n",
      "NU                      0.00\n",
      "OM                     50.00\n",
      "OF                     54.00\n",
      "OU                      0.00\n",
      "UNKNOWN MALE          302.00\n",
      "UNKNOWN FEMALE        256.00\n",
      "UNKNOWN                 0.00\n",
      "TOTAL VOTERS        22434.00\n",
      "POW_w_Un_Voters      5498.00\n",
      "POW_wo_Un_Voters     4940.00\n",
      "White_Voters        16936.00\n",
      "POC %                 322.57\n",
      "dtype: float64\n"
     ]
    }
   ],
   "source": [
    "import numpy as np\n",
    "import sys\n",
    "import csv\n",
    "import glob\n",
    "import pandas as pd\n",
    "from os import getcwd, listdir\n",
    "from os.path import basename\n",
    "\n",
    "df = []\n",
    "def open_csv(f, d = ','):\n",
    "    data = []\n",
    "    \n",
    "    with open(f, encoding = 'uft-8') as mData:\n",
    "        info = csv.reader(mData, delimiter = d)\n",
    "        \n",
    "        for row in info:\n",
    "            data.append(row)\n",
    "        return data\n",
    "    \n",
    "def open_exel(f):\n",
    "    voter_cols = ['ID','Precinct','BM','BF','BU','WM','WF','WU','APacM','APacF','APacU','HM','HF','HU','NM','NF','NU','OM','OF','OU','UNKNOWN MALE','UNKNOWN FEMALE','UNKNOWN','TOTAL VOTERS']\n",
    "    column_range = \"A,B,C,F,I,L,O,R,U,X,AA,AD,AG,AJ,AM, AP,AS, AV, AY, BB, BE,BH, BK,BN\"\n",
    "    data = pd.read_excel(f, 'DEMOGRAPHICS REPORT', header=None, names=voter_cols, index_col=0,  usecols=column_range, skiprows=3)\n",
    "    \n",
    "    indexName = (basename(f[:-5])) + '-' + (data['Precinct'])\n",
    "    county = (basename(f[:-5]))\n",
    "#     data.loc[f'{county}-Total'] = data.sum()\n",
    "    data.index = indexName\n",
    "    data = data.drop(['Precinct'], axis=1)\n",
    "    \n",
    "    data.loc[f'{county}-Total'] = data.sum()\n",
    "    def population(df):\n",
    "        df['POW_w_Un_Voters'] = df.drop(['WM','WF','WU','TOTAL VOTERS'], axis=1).sum(axis=1)\n",
    "        df['POW_wo_Un_Voters'] = df.drop(['WM','WF','WU','UNKNOWN MALE','UNKNOWN FEMALE','UNKNOWN','TOTAL VOTERS','POW_w_Un_Voters'], axis=1).sum(axis=1)\n",
    "        df['White_Voters'] = df['WM']+df['WF']+df['WU']\n",
    "        df['POC %'] = round(((df['POW_wo_Un_Voters'] / df['TOTAL VOTERS']) * 100), 2)\n",
    "\n",
    "    population(data)\n",
    "#     print(data.loc[f'{county}-Total',:])\n",
    "    print(data.sum())\n",
    "#     total = data.loc[f'{county}-Total',:]\n",
    "#     print(total)\n",
    "\n",
    "    data.to_excel(f'./files/Stripped-Data/{county}_appended.xlsx')\n",
    "    return data\n",
    "\n",
    "\n",
    "\n",
    "\n",
    "    \n",
    "    \n",
    "    \n",
    "applingGA = open_exel('./files/GA_November8_2016(CountyPrecinct)/APPLING.xlsx')\n",
    "# population(applingGA)\n",
    "# print(applingGA.columns)\n",
    "# print(applingGA)"
   ]
  },
  {
   "cell_type": "code",
   "execution_count": 15,
   "metadata": {},
   "outputs": [
    {
     "ename": "NameError",
     "evalue": "name 'county' is not defined",
     "output_type": "error",
     "traceback": [
      "\u001b[1;31m---------------------------------------------------------------------------\u001b[0m",
      "\u001b[1;31mNameError\u001b[0m                                 Traceback (most recent call last)",
      "\u001b[1;32m<ipython-input-15-5ecc326f0662>\u001b[0m in \u001b[0;36m<module>\u001b[1;34m\u001b[0m\n\u001b[0;32m     10\u001b[0m \u001b[1;31m# # applingGA\u001b[0m\u001b[1;33m\u001b[0m\u001b[1;33m\u001b[0m\u001b[1;33m\u001b[0m\u001b[0m\n\u001b[0;32m     11\u001b[0m \u001b[1;31m# # df_final\u001b[0m\u001b[1;33m\u001b[0m\u001b[1;33m\u001b[0m\u001b[1;33m\u001b[0m\u001b[0m\n\u001b[1;32m---> 12\u001b[1;33m \u001b[0mapplingGA\u001b[0m\u001b[1;33m.\u001b[0m\u001b[0mto_excel\u001b[0m\u001b[1;33m(\u001b[0m\u001b[1;34mf'{county}_appended.xlsx'\u001b[0m\u001b[1;33m)\u001b[0m\u001b[1;33m\u001b[0m\u001b[1;33m\u001b[0m\u001b[0m\n\u001b[0m",
      "\u001b[1;31mNameError\u001b[0m: name 'county' is not defined"
     ]
    }
   ],
   "source": [
    "# applingGA = open_exel('./files/GA_November8_2016(CountyPrecinct)/APPLING.xlsx')\n",
    "# # population(applingGA)\n",
    "# # print(applingGA.columns)\n",
    "# print(applingGA)\n",
    "# # sum_row = applingGA[['BM','BF','BU','WM','WF','WU','APacM','APacF','APacU','HM','HF','HU','NM','NF','NU','OM','OF','OU','UNKNOWN MALE','UNKNOWN FEMALE','UNKNOWN','TOTAL VOTERS']].sum()\n",
    "# # df_sum=pd.DataFrame(data=sum_row).T\n",
    "# # df_sum=df_sum.reindex(columns=applingGA.columns)\n",
    "# # df_sum\n",
    "# # df_final=applingGA.append(df_sum,ignore_index=True)\n",
    "# # applingGA\n",
    "# # df_final\n",
    "\n"
   ]
  }
 ],
 "metadata": {
  "kernelspec": {
   "display_name": "Python 3",
   "language": "python",
   "name": "python3"
  },
  "language_info": {
   "codemirror_mode": {
    "name": "ipython",
    "version": 3
   },
   "file_extension": ".py",
   "mimetype": "text/x-python",
   "name": "python",
   "nbconvert_exporter": "python",
   "pygments_lexer": "ipython3",
   "version": "3.7.6"
  }
 },
 "nbformat": 4,
 "nbformat_minor": 4
}
